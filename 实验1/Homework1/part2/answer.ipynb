{
 "cells": [
  {
   "attachments": {},
   "cell_type": "markdown",
   "metadata": {
    "pycharm": {
     "name": "#%% md\n"
    }
   },
   "source": [
    "# 使用PCA对人脸图片进行处理\n",
    "\n",
    "此部分作业要求使用PCA技术对给定的人脸数据集进行处理，你需要在该文件中完成你的代码，并输出结果。\n",
    "\n",
    "\n",
    "\n",
    "本次使用到的人脸数据集是 ORL人脸数据集，共包含40个不同人的400张图像。此数据集下包含40个目录，每个目录下有10张图像，每个目录表示一个不同的人。所有的图像是以PGM格式存储，灰度图，图像大小宽度为92，高度为112。\n",
    "\n",
    "\n",
    "\n",
    "数据集中部分图像示例：\n",
    "\n",
    "![image-20230428112024592](./faces.png)\n",
    "\n",
    "\n",
    "\n",
    "在本次作业中，你需要**按顺序**完成以下内容并且在该文件中**保留要求**的输出结果：\n",
    "\n",
    "1. 将数据集划分为80%的训练集，20%的测试集，在训练集上使用PCA将特征维度降为100，即得到100个特征和其对应的特征向量，并使用训练得到的PCA将测试集维度也压缩到100，**输出：压缩后的训练集维度和测试集维度、经过PCA得到的特征向量维度**。\n",
    "\n",
    "2. 得到100个特征向量后，**使用这些向量重建特征脸并输出**。示例：\n",
    "\n",
    "   ![image2](./feature.png)\n",
    "\n",
    "3. 使用这100个特征和对应的特征向量，自行在训练集和测试集中**分别**选择**5张**人脸图片进行人脸重建并**输出对比图**。示例：\n",
    "\n",
    "   ![image2](./restore.png)\n",
    "\n",
    "4. **输出**降维后**每个**新特征向量所占的信息量占原始数据总信息量的百分比，以及所有返回特征所携带的**信息量总和**是原始数据的多少；\n",
    "\n",
    "5. **画出**特征个数和所携带信息数的曲线图，此处特征数**上限设置为150**，此处以150为示例：\n",
    "\n",
    "   ![image2](./information.png)\n",
    "\n",
    "6.  保留特征数为150，得到的训练集每次保留前（n=n+1，n初值为1）个特征，分别训练一个KNN分类器，KNN分类器的参数*n_neighbors*为3，观察并验证测试集在使用其前n个特征时KNN分类的准确率。**注意：此处仅进行一次PCA**,输出：不同的特征保留数和准确率的曲线图。此处以*n_neighbors=5*为示例：\n",
    "\n",
    "   ![image2](./acc.png)\n",
    "\n",
    "   **本次作业严禁抄袭，一经发现严肃处理**\n",
    "\n",
    "\n",
    "#  附加题\n",
    "\n",
    "若感兴趣，可以自行拍摄自己或舍友的人脸照片、或者其他较为简单且特征明显的数据集进行PCA操作。\n"
   ]
  },
  {
   "cell_type": "code",
   "execution_count": 3,
   "metadata": {
    "pycharm": {
     "name": "#%%\n"
    }
   },
   "outputs": [],
   "source": [
    "# 本次作业你可能需要用到的包和函数\n",
    "\n",
    "%matplotlib inline\n",
    "# 导入所需模块\n",
    "import matplotlib.pyplot as plt\n",
    "import numpy as np\n",
    "import os\n",
    "import cv2\n",
    "\n",
    "from sklearn.decomposition import PCA\n",
    "from sklearn.model_selection import train_test_split\n",
    "from sklearn.neighbors import KNeighborsClassifier\n",
    "\n",
    "# plt显示灰度图片\n",
    "def plt_show(img):\n",
    "    plt.imshow(img,cmap='gray')\n",
    "    plt.show()\n",
    "\n",
    "# 读取一个文件夹下的所有图片，输入参数是文件名，返回文件地址列表\n",
    "def read_directory(directory_name):\n",
    "    faces_addr = []\n",
    "    for filename in os.listdir(directory_name):\n",
    "        faces_addr.append(directory_name + \"/\" + filename)\n",
    "    return faces_addr"
   ]
  },
  {
   "cell_type": "code",
   "execution_count": null,
   "metadata": {
    "pycharm": {
     "name": "#%%\n"
    }
   },
   "outputs": [],
   "source": [
    "# Your Code"
   ]
  }
 ],
 "metadata": {
  "kernelspec": {
   "display_name": "base",
   "language": "python",
   "name": "python3"
  },
  "language_info": {
   "codemirror_mode": {
    "name": "ipython",
    "version": 3
   },
   "file_extension": ".py",
   "mimetype": "text/x-python",
   "name": "python",
   "nbconvert_exporter": "python",
   "pygments_lexer": "ipython3",
   "version": "3.7.6"
  },
  "orig_nbformat": 4
 },
 "nbformat": 4,
 "nbformat_minor": 2
}